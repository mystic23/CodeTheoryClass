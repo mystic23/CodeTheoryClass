{
  "nbformat": 4,
  "nbformat_minor": 0,
  "metadata": {
    "colab": {
      "provenance": [],
      "authorship_tag": "ABX9TyPIRtNh2BXUxO5pctNiT+km",
      "include_colab_link": true
    },
    "kernelspec": {
      "name": "python3",
      "display_name": "Python 3"
    },
    "language_info": {
      "name": "python"
    }
  },
  "cells": [
    {
      "cell_type": "markdown",
      "metadata": {
        "id": "view-in-github",
        "colab_type": "text"
      },
      "source": [
        "<a href=\"https://colab.research.google.com/github/mystic23/CodeTheoryClass/blob/main/Actividades_Teoria_de_codigos.ipynb\" target=\"_parent\"><img src=\"https://colab.research.google.com/assets/colab-badge.svg\" alt=\"Open In Colab\"/></a>"
      ]
    },
    {
      "cell_type": "markdown",
      "source": [
        "#**Actividades - Teoría de codigos**\n",
        "\n",
        "###• **Profesor:** Mauricio Cerpa Hernandez\n",
        "\n",
        "###• **Estudiante:** Maria Isabel Solá Valle\n",
        "###• **Código:** 200169403"
      ],
      "metadata": {
        "id": "L1lB5Oja7LW4"
      }
    },
    {
      "cell_type": "markdown",
      "source": [
        "##Actividad 26 de julio del 2023\n"
      ],
      "metadata": {
        "id": "nwmJjdyz81q7"
      }
    },
    {
      "cell_type": "markdown",
      "source": [
        "\n",
        "#**Problema 1:** Dado un alfabeto A, sacar los elementos de A^n, donde n es la longitud de cada elemento del conjunto A^n\n",
        "\n",
        "\n"
      ],
      "metadata": {
        "id": "9jMfheGZ8eJx"
      }
    },
    {
      "cell_type": "code",
      "source": [
        "def generar_combinaciones(data, n):\n",
        "    C = []\n",
        "\n",
        "    def combinaciones(actuales):\n",
        "        if len(actuales) == n:\n",
        "            C.append(''.join(actuales))\n",
        "            return\n",
        "        for char in data:\n",
        "            actuales.append(char)\n",
        "            combinaciones(actuales)\n",
        "            actuales.pop()\n",
        "\n",
        "    combinaciones([])\n",
        "    n_elementos = len(C)\n",
        "    return C, n_elementos\n",
        "\n",
        "data = ['a', 'b', 'c']\n",
        "n = 3\n",
        "resultado, n_elementos= generar_combinaciones(data, n)\n",
        "print(resultado)\n",
        "# print(\"La cantidad de combinaciones es: \", n_elementos)\n"
      ],
      "metadata": {
        "colab": {
          "base_uri": "https://localhost:8080/"
        },
        "id": "LBOBiGYG-Zz3",
        "outputId": "ea813fb0-d6d9-42f5-b25d-940465891e22"
      },
      "execution_count": 22,
      "outputs": [
        {
          "output_type": "stream",
          "name": "stdout",
          "text": [
            "['aaa', 'aab', 'aac', 'aba', 'abb', 'abc', 'aca', 'acb', 'acc', 'baa', 'bab', 'bac', 'bba', 'bbb', 'bbc', 'bca', 'bcb', 'bcc', 'caa', 'cab', 'cac', 'cba', 'cbb', 'cbc', 'cca', 'ccb', 'ccc']\n",
            "La cantidad de combinaciones es:  27\n"
          ]
        }
      ]
    }
  ]
}