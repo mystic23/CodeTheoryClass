{
  "nbformat": 4,
  "nbformat_minor": 0,
  "metadata": {
    "colab": {
      "provenance": [],
      "authorship_tag": "ABX9TyNnKw4IgFttB1nQTPjRSHgv",
      "include_colab_link": true
    },
    "kernelspec": {
      "name": "python3",
      "display_name": "Python 3"
    },
    "language_info": {
      "name": "python"
    }
  },
  "cells": [
    {
      "cell_type": "markdown",
      "metadata": {
        "id": "view-in-github",
        "colab_type": "text"
      },
      "source": [
        "<a href=\"https://colab.research.google.com/github/mystic23/CodeTheoryClass/blob/main/Taller_1.ipynb\" target=\"_parent\"><img src=\"https://colab.research.google.com/assets/colab-badge.svg\" alt=\"Open In Colab\"/></a>"
      ]
    },
    {
      "cell_type": "markdown",
      "source": [
        "#**Taller 1- Teoría de codigos**\n",
        "\n",
        "###• **Profesor:** Mauricio Cerpa Hernandez\n",
        "\n",
        "###• **Estudiantes:** Jhonny Andres Rumbo Mendoza y Maria Isabel Solá Valle"
      ],
      "metadata": {
        "id": "xpaTkzgR0mBE"
      }
    },
    {
      "cell_type": "markdown",
      "source": [
        "#**Primer punto**"
      ],
      "metadata": {
        "id": "RQuaTjqf1W-v"
      }
    },
    {
      "cell_type": "markdown",
      "source": [
        "#a ) Determinar los parametros, donde:\n",
        "En teoría de códigos utilizamos lo siguiente:\n",
        "\n",
        "  Es r-ario sobre A\n",
        "\n",
        "  Tiene longitud n\n",
        "\n",
        "  Tiene tamaño M\n",
        "  \n",
        "  Su distancia mínima es d\n",
        "\n",
        "Por lo tanto tenemos que C es un $(n, M, d)_{r-código}$  sobre A\n",
        "Segundo Punto"
      ],
      "metadata": {
        "id": "l3idf-j81oCa"
      }
    },
    {
      "cell_type": "code",
      "source": [
        "def hamming_distance(str1, str2):\n",
        "    if len(str1) != len(str2):\n",
        "        raise ValueError(\"Los vectores deben tener la misma longitud\")\n",
        "\n",
        "    distance = 0\n",
        "    for i in range(len(str1)):\n",
        "        if str1[i] != str2[i]:\n",
        "            distance += 1\n",
        "    return distance\n"
      ],
      "metadata": {
        "id": "ED2VD88f8enr"
      },
      "execution_count": null,
      "outputs": []
    },
    {
      "cell_type": "code",
      "source": [
        "\n",
        "def calculate_parameters(C):\n",
        "    n = len(C[0])\n",
        "    M = len(C)\n",
        "\n",
        "    min_distance = float('inf')\n",
        "    for i in range(len(C)):\n",
        "        for j in range(i + 1, len(C)):\n",
        "            distance = hamming_distance(C[i], C[j])\n",
        "            if distance < min_distance:\n",
        "                min_distance = distance\n",
        "    d = min_distance\n",
        "\n",
        "    return n, M, d\n"
      ],
      "metadata": {
        "id": "TeOnt_CT2jkz"
      },
      "execution_count": null,
      "outputs": []
    },
    {
      "cell_type": "code",
      "source": [
        "#Codigo\n",
        "C =[\n",
        "    \"0011111010011011000011110100\", \"1001100010011000000011000000\",\n",
        "    \"1110000110110000111101011110\", \"1000000011110110010111001011\",\n",
        "    \"0010111011010101010111101111\", \"1011101101011101100000010010\",\n",
        "    \"1111010110011011011110010111\", \"1011010011000100000111101000\",\n",
        "    \"0001011111001110101011100011\", \"0000000100001111011011001000\",\n",
        "    \"0010110111101110111101001010\", \"0010100000101000011100111001\",\n",
        "    \"0110001000100101000100101010\", \"0110010001101110100000110000\",\n",
        "    \"1100001001101101111110001011\", \"0001010100110001101100010100\",\n",
        "    \"0001101100011100110111001010\", \"0011001011001001110010100100\",\n",
        "    \"1100111110100011011100011011\", \"1101101000101110111101001000\",\n",
        "    \"0110001101001101011000000010\", \"1010010000110100011001010100\"\n",
        "]\n",
        "\n",
        "value = [\"0\", \"1\"]\n",
        "r = len(value)\n",
        "n, M, d = calculate_parameters(C)\n",
        "\n",
        "print(\"n:\", n,\"| M:\", M,\"| d:\", d,\"| r:\", r )\n",
        "print(\"Entonces tenemos que: (n, M, d)_{r-código} \")\n",
        "print(f\"(n = {n}, M = {M}, d = {d})_{r}\")\n"
      ],
      "metadata": {
        "colab": {
          "base_uri": "https://localhost:8080/"
        },
        "id": "m93XMVJn8lOg",
        "outputId": "8e6a1e9e-d43e-4720-efd6-ffd8db06a16b"
      },
      "execution_count": null,
      "outputs": [
        {
          "output_type": "stream",
          "name": "stdout",
          "text": [
            "n: 28 | M: 22 | d: 9 | r: 2\n",
            "Entonces tenemos que: (n, M, d)_{r-código} \n",
            "(n = 28, M = 22, d = 9)_2\n"
          ]
        }
      ]
    },
    {
      "cell_type": "markdown",
      "source": [
        "# B) Codewords enviados y # de errores\n",
        "**Enunciado:**\n",
        "Si se reciben las siguientes palabras, diga en cada caso qué codewords fueron enviados y cuántos errores ocurrieron en cada transmisión.\n",
        "\n",
        "    1.   1010111011010101010111101100\n",
        "    2.   1110000100101111011011001000\n",
        "    3.   0101010100000001101100010101\n",
        "\n"
      ],
      "metadata": {
        "id": "rKytmcS86gdV"
      }
    },
    {
      "cell_type": "code",
      "source": [
        "def find_closest_codeword(target_codeword, codewords):\n",
        "    min_distance = float('inf')\n",
        "    closest_codewords = []\n",
        "\n",
        "    for codeword in codewords:\n",
        "        distance = hamming_distance(target_codeword, codeword)\n",
        "        if distance < min_distance:\n",
        "            min_distance = distance\n",
        "            closest_codewords = [codeword]\n",
        "        elif distance == min_distance:\n",
        "            closest_codewords.append(codeword)\n",
        "\n",
        "    return closest_codewords, min_distance"
      ],
      "metadata": {
        "id": "HOTXMmX98r2H"
      },
      "execution_count": null,
      "outputs": []
    },
    {
      "cell_type": "code",
      "source": [
        "print(\"Primera: \")\n",
        "target_codeword = \"1010111011010101010111101100\"\n",
        "closest_codewords, errors = find_closest_codeword(target_codeword, C)\n",
        "sent_codewords = len(closest_codewords)\n",
        "\n",
        "print(f\"Codeword definida: {target_codeword}\")\n",
        "print(f\"Número de errores: {errors}\")\n",
        "print(f\"Número de codewords enviados: {sent_codewords}\")\n",
        "print(\"Codewords enviados:\")\n",
        "for codeword in closest_codewords:\n",
        "    print(codeword)\n"
      ],
      "metadata": {
        "colab": {
          "base_uri": "https://localhost:8080/"
        },
        "id": "Vzy0i35k7gha",
        "outputId": "7fe9fdf8-979d-4818-b2ec-b1916e3983c9"
      },
      "execution_count": null,
      "outputs": [
        {
          "output_type": "stream",
          "name": "stdout",
          "text": [
            "Primera: \n",
            "Codeword definida: 1010111011010101010111101100\n",
            "Número de errores: 3\n",
            "Número de codewords enviados: 1\n",
            "Codewords enviados:\n",
            "0010111011010101010111101111\n"
          ]
        }
      ]
    },
    {
      "cell_type": "code",
      "source": [
        "print(\"Segunda: \")\n",
        "target_codeword = \"1110000100101111011011001000\"\n",
        "closest_codewords, errors = find_closest_codeword(target_codeword, C)\n",
        "sent_codewords = len(closest_codewords)\n",
        "\n",
        "print(f\"Codeword definida: {target_codeword}\")\n",
        "print(f\"Número de errores: {errors}\")\n",
        "print(f\"Número de codewords enviados: {sent_codewords}\")\n",
        "print(\"Codewords enviados:\")\n",
        "for codeword in closest_codewords:\n",
        "    print(codeword)\n"
      ],
      "metadata": {
        "colab": {
          "base_uri": "https://localhost:8080/"
        },
        "id": "MZiZrUBT9T9p",
        "outputId": "a5d75532-1698-4371-b9cb-f40b600d4dc1"
      },
      "execution_count": null,
      "outputs": [
        {
          "output_type": "stream",
          "name": "stdout",
          "text": [
            "Segunda: \n",
            "Codeword definida: 1110000100101111011011001000\n",
            "Número de errores: 4\n",
            "Número de codewords enviados: 1\n",
            "Codewords enviados:\n",
            "0000000100001111011011001000\n"
          ]
        }
      ]
    },
    {
      "cell_type": "code",
      "source": [
        "print(\"Tercera: \")\n",
        "target_codeword = \"0101010100000001101100010101\"\n",
        "closest_codewords, errors = find_closest_codeword(target_codeword, C)\n",
        "sent_codewords = len(closest_codewords)\n",
        "\n",
        "print(f\"Codeword definida: {target_codeword}\")\n",
        "print(f\"Número de errores: {errors}\")\n",
        "print(f\"Número de codewords enviados: {sent_codewords}\")\n",
        "print(\"Codewords enviados:\")\n",
        "for codeword in closest_codewords:\n",
        "    print(codeword)\n"
      ],
      "metadata": {
        "colab": {
          "base_uri": "https://localhost:8080/"
        },
        "id": "STtITPtA9pjN",
        "outputId": "66e97d28-16a0-4fde-f04c-2541af2e2603"
      },
      "execution_count": null,
      "outputs": [
        {
          "output_type": "stream",
          "name": "stdout",
          "text": [
            "Tercera: \n",
            "Codeword definida: 0101010100000001101100010101\n",
            "Número de errores: 4\n",
            "Número de codewords enviados: 1\n",
            "Codewords enviados:\n",
            "0001010100110001101100010100\n"
          ]
        }
      ]
    },
    {
      "cell_type": "markdown",
      "source": [
        "#Segundo punto\n",
        "De ser posible, construya un código con los siguientes parámetros:"
      ],
      "metadata": {
        "id": "9qwBwELi9_29"
      }
    },
    {
      "cell_type": "code",
      "source": [
        "\n",
        "def generate_combinations(n, r):\n",
        "    combinations = []\n",
        "    for i in range(2**n):\n",
        "        binary_str = format(i, '0' + str(n) + 'b')\n",
        "        combinations.append(''.join(r[int(bit)] for bit in binary_str))\n",
        "    return combinations\n",
        "\n",
        "def check_code(words, min_distance):\n",
        "    for i in range(len(words)):\n",
        "        for j in range(i + 1, len(words)):\n",
        "            if hamming_distance(words[i], words[j]) < min_distance:\n",
        "                return False\n",
        "    return True"
      ],
      "metadata": {
        "id": "LvEqF6yfT0xd"
      },
      "execution_count": null,
      "outputs": []
    },
    {
      "cell_type": "markdown",
      "source": [
        "a) $(8,2,8)_{2}$"
      ],
      "metadata": {
        "id": "h9CpN96b-2yo"
      }
    },
    {
      "cell_type": "markdown",
      "source": [
        "b) $(8,3,8)_{2}$"
      ],
      "metadata": {
        "id": "zDauFMuUAPkQ"
      }
    },
    {
      "cell_type": "markdown",
      "source": [
        "c) $(3,9,1)_{2}$"
      ],
      "metadata": {
        "id": "O2OKmJmOATow"
      }
    },
    {
      "cell_type": "markdown",
      "source": [
        "d) $(4,8,2)_{2}$"
      ],
      "metadata": {
        "id": "jLytbYgfAVog"
      }
    },
    {
      "cell_type": "markdown",
      "source": [
        "e) $(5,5,3)_{2}$"
      ],
      "metadata": {
        "id": "fnw6NqLjAY8h"
      }
    },
    {
      "cell_type": "code",
      "source": [
        "n_M_d_r = [\n",
        "    (8, 2, 8, [\"1\", \"0\"]),\n",
        "    (8, 3, 8, [\"1\", \"0\"]),\n",
        "    (3, 9, 1, [\"1\", \"0\"]),\n",
        "    (4, 8, 2, [\"1\", \"0\"]),\n",
        "    (5, 5, 3, [\"1\", \"0\"])\n",
        "]\n",
        "\n",
        "for n, M, d, r in n_M_d_r:\n",
        "    print(f\"Ejercicio : ({n},{M},{d})_{r}:\")\n",
        "    words = generate_combinations(n, r)\n",
        "    valid_matches = []\n",
        "\n",
        "    if M > len(words):\n",
        "        print(f\"No hay coincidencia con estos parámetros (M={M}, d={d}).\")\n",
        "    else:\n",
        "        for i in range(len(words)):\n",
        "            valid_so_far = True\n",
        "            for word in valid_matches:\n",
        "                if hamming_distance(words[i], word) < d:\n",
        "                    valid_so_far = False\n",
        "                    break\n",
        "            if valid_so_far:\n",
        "                valid_matches.append(words[i])\n",
        "                if len(valid_matches) == M:\n",
        "                    break\n",
        "\n",
        "        print(\"Palabras generadas\")\n",
        "        print(words)\n",
        "\n",
        "        if len(valid_matches) == M:\n",
        "            print(f\"Si hay coincidencia con estos parámetros. (M={M}, d={d}):\")\n",
        "            for match in valid_matches:\n",
        "                print(match)\n",
        "        else:\n",
        "            print(f\"No hay coincidencia con estos parámetros(M={M}, d={d}).\")\n",
        "    print()\n"
      ],
      "metadata": {
        "colab": {
          "base_uri": "https://localhost:8080/"
        },
        "id": "d0HLNEDuVRzC",
        "outputId": "9c1e8613-de2b-4145-e9bc-374a9cb832de"
      },
      "execution_count": null,
      "outputs": [
        {
          "output_type": "stream",
          "name": "stdout",
          "text": [
            "Ejercicio : (8,2,8)_['1', '0']:\n",
            "Palabras generadas\n",
            "['11111111', '11111110', '11111101', '11111100', '11111011', '11111010', '11111001', '11111000', '11110111', '11110110', '11110101', '11110100', '11110011', '11110010', '11110001', '11110000', '11101111', '11101110', '11101101', '11101100', '11101011', '11101010', '11101001', '11101000', '11100111', '11100110', '11100101', '11100100', '11100011', '11100010', '11100001', '11100000', '11011111', '11011110', '11011101', '11011100', '11011011', '11011010', '11011001', '11011000', '11010111', '11010110', '11010101', '11010100', '11010011', '11010010', '11010001', '11010000', '11001111', '11001110', '11001101', '11001100', '11001011', '11001010', '11001001', '11001000', '11000111', '11000110', '11000101', '11000100', '11000011', '11000010', '11000001', '11000000', '10111111', '10111110', '10111101', '10111100', '10111011', '10111010', '10111001', '10111000', '10110111', '10110110', '10110101', '10110100', '10110011', '10110010', '10110001', '10110000', '10101111', '10101110', '10101101', '10101100', '10101011', '10101010', '10101001', '10101000', '10100111', '10100110', '10100101', '10100100', '10100011', '10100010', '10100001', '10100000', '10011111', '10011110', '10011101', '10011100', '10011011', '10011010', '10011001', '10011000', '10010111', '10010110', '10010101', '10010100', '10010011', '10010010', '10010001', '10010000', '10001111', '10001110', '10001101', '10001100', '10001011', '10001010', '10001001', '10001000', '10000111', '10000110', '10000101', '10000100', '10000011', '10000010', '10000001', '10000000', '01111111', '01111110', '01111101', '01111100', '01111011', '01111010', '01111001', '01111000', '01110111', '01110110', '01110101', '01110100', '01110011', '01110010', '01110001', '01110000', '01101111', '01101110', '01101101', '01101100', '01101011', '01101010', '01101001', '01101000', '01100111', '01100110', '01100101', '01100100', '01100011', '01100010', '01100001', '01100000', '01011111', '01011110', '01011101', '01011100', '01011011', '01011010', '01011001', '01011000', '01010111', '01010110', '01010101', '01010100', '01010011', '01010010', '01010001', '01010000', '01001111', '01001110', '01001101', '01001100', '01001011', '01001010', '01001001', '01001000', '01000111', '01000110', '01000101', '01000100', '01000011', '01000010', '01000001', '01000000', '00111111', '00111110', '00111101', '00111100', '00111011', '00111010', '00111001', '00111000', '00110111', '00110110', '00110101', '00110100', '00110011', '00110010', '00110001', '00110000', '00101111', '00101110', '00101101', '00101100', '00101011', '00101010', '00101001', '00101000', '00100111', '00100110', '00100101', '00100100', '00100011', '00100010', '00100001', '00100000', '00011111', '00011110', '00011101', '00011100', '00011011', '00011010', '00011001', '00011000', '00010111', '00010110', '00010101', '00010100', '00010011', '00010010', '00010001', '00010000', '00001111', '00001110', '00001101', '00001100', '00001011', '00001010', '00001001', '00001000', '00000111', '00000110', '00000101', '00000100', '00000011', '00000010', '00000001', '00000000']\n",
            "Si hay coincidencia con estos parametros (M=2, d=8):\n",
            "11111111\n",
            "00000000\n",
            "\n",
            "Ejercicio : (8,3,8)_['1', '0']:\n",
            "Palabras generadas\n",
            "['11111111', '11111110', '11111101', '11111100', '11111011', '11111010', '11111001', '11111000', '11110111', '11110110', '11110101', '11110100', '11110011', '11110010', '11110001', '11110000', '11101111', '11101110', '11101101', '11101100', '11101011', '11101010', '11101001', '11101000', '11100111', '11100110', '11100101', '11100100', '11100011', '11100010', '11100001', '11100000', '11011111', '11011110', '11011101', '11011100', '11011011', '11011010', '11011001', '11011000', '11010111', '11010110', '11010101', '11010100', '11010011', '11010010', '11010001', '11010000', '11001111', '11001110', '11001101', '11001100', '11001011', '11001010', '11001001', '11001000', '11000111', '11000110', '11000101', '11000100', '11000011', '11000010', '11000001', '11000000', '10111111', '10111110', '10111101', '10111100', '10111011', '10111010', '10111001', '10111000', '10110111', '10110110', '10110101', '10110100', '10110011', '10110010', '10110001', '10110000', '10101111', '10101110', '10101101', '10101100', '10101011', '10101010', '10101001', '10101000', '10100111', '10100110', '10100101', '10100100', '10100011', '10100010', '10100001', '10100000', '10011111', '10011110', '10011101', '10011100', '10011011', '10011010', '10011001', '10011000', '10010111', '10010110', '10010101', '10010100', '10010011', '10010010', '10010001', '10010000', '10001111', '10001110', '10001101', '10001100', '10001011', '10001010', '10001001', '10001000', '10000111', '10000110', '10000101', '10000100', '10000011', '10000010', '10000001', '10000000', '01111111', '01111110', '01111101', '01111100', '01111011', '01111010', '01111001', '01111000', '01110111', '01110110', '01110101', '01110100', '01110011', '01110010', '01110001', '01110000', '01101111', '01101110', '01101101', '01101100', '01101011', '01101010', '01101001', '01101000', '01100111', '01100110', '01100101', '01100100', '01100011', '01100010', '01100001', '01100000', '01011111', '01011110', '01011101', '01011100', '01011011', '01011010', '01011001', '01011000', '01010111', '01010110', '01010101', '01010100', '01010011', '01010010', '01010001', '01010000', '01001111', '01001110', '01001101', '01001100', '01001011', '01001010', '01001001', '01001000', '01000111', '01000110', '01000101', '01000100', '01000011', '01000010', '01000001', '01000000', '00111111', '00111110', '00111101', '00111100', '00111011', '00111010', '00111001', '00111000', '00110111', '00110110', '00110101', '00110100', '00110011', '00110010', '00110001', '00110000', '00101111', '00101110', '00101101', '00101100', '00101011', '00101010', '00101001', '00101000', '00100111', '00100110', '00100101', '00100100', '00100011', '00100010', '00100001', '00100000', '00011111', '00011110', '00011101', '00011100', '00011011', '00011010', '00011001', '00011000', '00010111', '00010110', '00010101', '00010100', '00010011', '00010010', '00010001', '00010000', '00001111', '00001110', '00001101', '00001100', '00001011', '00001010', '00001001', '00001000', '00000111', '00000110', '00000101', '00000100', '00000011', '00000010', '00000001', '00000000']\n",
            "No hay coincidencia con estos parametros(M=3, d=8).\n",
            "\n",
            "Ejercicio : (3,9,1)_['1', '0']:\n",
            "No hay coincidencia con estos parametros (M=9, d=1).\n",
            "\n",
            "Ejercicio : (4,8,2)_['1', '0']:\n",
            "Palabras generadas\n",
            "['1111', '1110', '1101', '1100', '1011', '1010', '1001', '1000', '0111', '0110', '0101', '0100', '0011', '0010', '0001', '0000']\n",
            "Si hay coincidencia con estos parametros (M=8, d=2):\n",
            "1111\n",
            "1100\n",
            "1010\n",
            "1001\n",
            "0110\n",
            "0101\n",
            "0011\n",
            "0000\n",
            "\n",
            "Ejercicio : (5,5,3)_['1', '0']:\n",
            "Palabras generadas\n",
            "['11111', '11110', '11101', '11100', '11011', '11010', '11001', '11000', '10111', '10110', '10101', '10100', '10011', '10010', '10001', '10000', '01111', '01110', '01101', '01100', '01011', '01010', '01001', '01000', '00111', '00110', '00101', '00100', '00011', '00010', '00001', '00000']\n",
            "No hay coincidencia con estos parametros(M=5, d=3).\n",
            "\n"
          ]
        }
      ]
    }
  ]
}